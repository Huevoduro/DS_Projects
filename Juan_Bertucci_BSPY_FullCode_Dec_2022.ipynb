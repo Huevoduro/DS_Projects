{
 "cells": [
  {
   "cell_type": "markdown",
   "id": "6yDxo9u0d9Na",
   "metadata": {
    "id": "6yDxo9u0d9Na"
   },
   "source": [
    "# Project Business Statistics: E-news Express\n",
    "\n",
    "**Marks: 60**"
   ]
  },
  {
   "cell_type": "markdown",
   "id": "SrLd-ICEmPSD",
   "metadata": {
    "id": "SrLd-ICEmPSD"
   },
   "source": [
    "## Define Problem Statement and Objectives"
   ]
  },
  {
   "cell_type": "markdown",
   "id": "ae93f8ef",
   "metadata": {},
   "source": [
    "*Note: Business Context, Objective, and Data Dictionary taken from the problem statement.*"
   ]
  },
  {
   "cell_type": "markdown",
   "id": "c4211802",
   "metadata": {},
   "source": [
    "### Business Context\n",
    "\n",
    "The evolution of news sourcing thanks to the democratization and speeding up of the access to information that the Internet brought has seen some types of traditional media decline in favor of various online sources, like streaming, podcasts, video content services, social media, and e-news sites.\n",
    "\n",
    "In this highly competitive and constantly changing business environment, e-news sites, being sort of heirs of the old newspaper media, face the challenge of keeping up with the instantaneousness and decentralized nature of social media by offering easy to access, interesting, valuable and visually attractive content to its users. The best-known sources of revenue for these companies are subscriptions and sponsorships (ads) can be counted. Other sources can be cross-selling, data commercialization, events, among others.\n",
    "\n",
    "**E-News Express** is an e-news company that wants to grow up its business by expanding its pool of subscribers, but has seen an apparent decline in subscriber growth relative to last year performance. Executives believe the decline is caused because the webpage design is not interesting enough to drive more engagement from its users."
   ]
  },
  {
   "cell_type": "markdown",
   "id": "b29a7eff",
   "metadata": {},
   "source": [
    "### Objective\n",
    "\n",
    "As a response to the perceived decline in engagement, the company has come up with a new landing page, sporting a new layout and design, and more interesting content, and needs to corroborate its effectiveness in driving better engagement and ultimately, revenue for E-News Express.\n",
    "\n",
    "With that objective in mind, the Data Science team designed and conducted an experiment by selecting a random sample of 100 users divided equally between the old page and the new one. Also, the samples have almost equal representation each of three language preferences (English, Spanish and French). The dependent variables are:\n",
    "* Time spent on the page\n",
    "* If the user gets converted to subscription user or not\n",
    "\n",
    "In order to complete the experiment, the task at hand consists in analyzing the data gathered and answering some questions related to the effectiveness of the new landing page relative to revenue-generating metrics:\n",
    "\n",
    "1. Do the users spend more time on the new landing page than on the existing landing page?\n",
    "2. Is the conversion rate (the proportion of users who visit the landing page and get converted) for the new page greater than the conversion rate for the old page?\n",
    "3. Does the converted status depend on the preferred language?\n",
    "4. Is the time spent on the new page the same for the different language users?\n",
    "\n",
    "To answer these questions, some statistical tests are called for, and the significance level determined for these is $\\alpha$ = 5%.\n",
    "\n",
    "*Questions source: problem statement*"
   ]
  },
  {
   "cell_type": "markdown",
   "id": "b9481ea9",
   "metadata": {},
   "source": [
    "### Data Dictionary\n",
    "\n",
    "The dataset provided for the task requested consists of a recollection from a survey of 100 users, and contains the following variables:\n",
    "\n",
    "* user_id - Unique user ID of the person visiting the website\n",
    "* group - Whether the user belongs to the first group (control) or the second group (treatment)\n",
    "* landing_page - Whether the landing page is new landing page or the old one\n",
    "* time_spent_on_the_page - Time (in minutes) spent by the user on the landing page served\n",
    "* converted - Whether the user gets converted to a subscriber of the news portal or not\n",
    "* language_preferred - Language chosen by the user to view the landing page\n",
    "\n",
    "*Dictionary source: problem statement*"
   ]
  },
  {
   "cell_type": "markdown",
   "id": "a6a3d218",
   "metadata": {
    "id": "a6a3d218"
   },
   "source": [
    "## Import all the necessary libraries"
   ]
  },
  {
   "cell_type": "code",
   "execution_count": 1,
   "id": "658c5dec",
   "metadata": {
    "id": "658c5dec"
   },
   "outputs": [],
   "source": [
    "# import libraries for data manipulation\n",
    "import numpy as np\n",
    "import pandas as pd\n",
    "\n",
    "# import libraries for data visualization\n",
    "import matplotlib.pyplot as plt\n",
    "import seaborn as sns\n",
    "\n",
    "# Seaborn aesthethic settings. Source: https://seaborn.pydata.org/examples/ (seaborn example gallery)\n",
    "sns.set_theme(style='darkgrid')\n",
    "\n",
    "# \"Magic\" command to tell Python to actually display the graphs (sourced from cases and session notebooks)\n",
    "%matplotlib inline\n",
    "\n",
    "# Option to display values up to 2 decimal places (sourced from cases and session notebooks)\n",
    "pd.set_option(\"display.float_format\", lambda x: \"%.2f\" % x)\n",
    "\n",
    "# import libraries for statistical analyses\n",
    "import scipy.stats as stats\n",
    "import statsmodels.stats.proportion as proportion"
   ]
  },
  {
   "cell_type": "markdown",
   "id": "6970dd99",
   "metadata": {
    "id": "6970dd99"
   },
   "source": [
    "## Reading the Data into a DataFrame"
   ]
  },
  {
   "cell_type": "code",
   "execution_count": 2,
   "id": "d3b95640",
   "metadata": {
    "id": "d3b95640"
   },
   "outputs": [],
   "source": [
    "# read the data\n",
    "# Comment: this notebook was run on Jupyter. If this code is run on Colab, the following file path has to be edited accordingly.\n",
    "df = pd.read_csv('abtest.csv')"
   ]
  },
  {
   "cell_type": "markdown",
   "id": "9d75cfa2",
   "metadata": {
    "id": "9d75cfa2"
   },
   "source": [
    "## Explore the dataset and extract insights using Exploratory Data Analysis"
   ]
  },
  {
   "cell_type": "markdown",
   "id": "27201534",
   "metadata": {
    "id": "27201534"
   },
   "source": [
    "- Data Overview\n",
    "  - Viewing the first and last few rows of the dataset\n",
    "  - Checking the shape of the dataset\n",
    "  - Getting the statistical summary for the variables\n",
    "- Check for missing values\n",
    "- Check for duplicates"
   ]
  },
  {
   "cell_type": "code",
   "execution_count": 3,
   "id": "e1ad11d4",
   "metadata": {
    "id": "e1ad11d4"
   },
   "outputs": [
    {
     "data": {
      "text/html": [
       "<div>\n",
       "<style scoped>\n",
       "    .dataframe tbody tr th:only-of-type {\n",
       "        vertical-align: middle;\n",
       "    }\n",
       "\n",
       "    .dataframe tbody tr th {\n",
       "        vertical-align: top;\n",
       "    }\n",
       "\n",
       "    .dataframe thead th {\n",
       "        text-align: right;\n",
       "    }\n",
       "</style>\n",
       "<table border=\"1\" class=\"dataframe\">\n",
       "  <thead>\n",
       "    <tr style=\"text-align: right;\">\n",
       "      <th></th>\n",
       "      <th>user_id</th>\n",
       "      <th>group</th>\n",
       "      <th>landing_page</th>\n",
       "      <th>time_spent_on_the_page</th>\n",
       "      <th>converted</th>\n",
       "      <th>language_preferred</th>\n",
       "    </tr>\n",
       "  </thead>\n",
       "  <tbody>\n",
       "    <tr>\n",
       "      <th>0</th>\n",
       "      <td>546592</td>\n",
       "      <td>control</td>\n",
       "      <td>old</td>\n",
       "      <td>3.48</td>\n",
       "      <td>no</td>\n",
       "      <td>Spanish</td>\n",
       "    </tr>\n",
       "    <tr>\n",
       "      <th>1</th>\n",
       "      <td>546468</td>\n",
       "      <td>treatment</td>\n",
       "      <td>new</td>\n",
       "      <td>7.13</td>\n",
       "      <td>yes</td>\n",
       "      <td>English</td>\n",
       "    </tr>\n",
       "    <tr>\n",
       "      <th>2</th>\n",
       "      <td>546462</td>\n",
       "      <td>treatment</td>\n",
       "      <td>new</td>\n",
       "      <td>4.40</td>\n",
       "      <td>no</td>\n",
       "      <td>Spanish</td>\n",
       "    </tr>\n",
       "    <tr>\n",
       "      <th>3</th>\n",
       "      <td>546567</td>\n",
       "      <td>control</td>\n",
       "      <td>old</td>\n",
       "      <td>3.02</td>\n",
       "      <td>no</td>\n",
       "      <td>French</td>\n",
       "    </tr>\n",
       "    <tr>\n",
       "      <th>4</th>\n",
       "      <td>546459</td>\n",
       "      <td>treatment</td>\n",
       "      <td>new</td>\n",
       "      <td>4.75</td>\n",
       "      <td>yes</td>\n",
       "      <td>Spanish</td>\n",
       "    </tr>\n",
       "  </tbody>\n",
       "</table>\n",
       "</div>"
      ],
      "text/plain": [
       "   user_id      group landing_page  time_spent_on_the_page converted  \\\n",
       "0   546592    control          old                    3.48        no   \n",
       "1   546468  treatment          new                    7.13       yes   \n",
       "2   546462  treatment          new                    4.40        no   \n",
       "3   546567    control          old                    3.02        no   \n",
       "4   546459  treatment          new                    4.75       yes   \n",
       "\n",
       "  language_preferred  \n",
       "0            Spanish  \n",
       "1            English  \n",
       "2            Spanish  \n",
       "3             French  \n",
       "4            Spanish  "
      ]
     },
     "execution_count": 3,
     "metadata": {},
     "output_type": "execute_result"
    }
   ],
   "source": [
    "df.head() # first 5 rows of the data set."
   ]
  },
  {
   "cell_type": "code",
   "execution_count": 4,
   "id": "80d44feb",
   "metadata": {
    "scrolled": true
   },
   "outputs": [
    {
     "data": {
      "text/html": [
       "<div>\n",
       "<style scoped>\n",
       "    .dataframe tbody tr th:only-of-type {\n",
       "        vertical-align: middle;\n",
       "    }\n",
       "\n",
       "    .dataframe tbody tr th {\n",
       "        vertical-align: top;\n",
       "    }\n",
       "\n",
       "    .dataframe thead th {\n",
       "        text-align: right;\n",
       "    }\n",
       "</style>\n",
       "<table border=\"1\" class=\"dataframe\">\n",
       "  <thead>\n",
       "    <tr style=\"text-align: right;\">\n",
       "      <th></th>\n",
       "      <th>user_id</th>\n",
       "      <th>group</th>\n",
       "      <th>landing_page</th>\n",
       "      <th>time_spent_on_the_page</th>\n",
       "      <th>converted</th>\n",
       "      <th>language_preferred</th>\n",
       "    </tr>\n",
       "  </thead>\n",
       "  <tbody>\n",
       "    <tr>\n",
       "      <th>95</th>\n",
       "      <td>546446</td>\n",
       "      <td>treatment</td>\n",
       "      <td>new</td>\n",
       "      <td>5.15</td>\n",
       "      <td>no</td>\n",
       "      <td>Spanish</td>\n",
       "    </tr>\n",
       "    <tr>\n",
       "      <th>96</th>\n",
       "      <td>546544</td>\n",
       "      <td>control</td>\n",
       "      <td>old</td>\n",
       "      <td>6.52</td>\n",
       "      <td>yes</td>\n",
       "      <td>English</td>\n",
       "    </tr>\n",
       "    <tr>\n",
       "      <th>97</th>\n",
       "      <td>546472</td>\n",
       "      <td>treatment</td>\n",
       "      <td>new</td>\n",
       "      <td>7.07</td>\n",
       "      <td>yes</td>\n",
       "      <td>Spanish</td>\n",
       "    </tr>\n",
       "    <tr>\n",
       "      <th>98</th>\n",
       "      <td>546481</td>\n",
       "      <td>treatment</td>\n",
       "      <td>new</td>\n",
       "      <td>6.20</td>\n",
       "      <td>yes</td>\n",
       "      <td>Spanish</td>\n",
       "    </tr>\n",
       "    <tr>\n",
       "      <th>99</th>\n",
       "      <td>546483</td>\n",
       "      <td>treatment</td>\n",
       "      <td>new</td>\n",
       "      <td>5.86</td>\n",
       "      <td>yes</td>\n",
       "      <td>English</td>\n",
       "    </tr>\n",
       "  </tbody>\n",
       "</table>\n",
       "</div>"
      ],
      "text/plain": [
       "    user_id      group landing_page  time_spent_on_the_page converted  \\\n",
       "95   546446  treatment          new                    5.15        no   \n",
       "96   546544    control          old                    6.52       yes   \n",
       "97   546472  treatment          new                    7.07       yes   \n",
       "98   546481  treatment          new                    6.20       yes   \n",
       "99   546483  treatment          new                    5.86       yes   \n",
       "\n",
       "   language_preferred  \n",
       "95            Spanish  \n",
       "96            English  \n",
       "97            Spanish  \n",
       "98            Spanish  \n",
       "99            English  "
      ]
     },
     "execution_count": 4,
     "metadata": {},
     "output_type": "execute_result"
    }
   ],
   "source": [
    "df.tail() # last 5 rows of the data set."
   ]
  },
  {
   "cell_type": "code",
   "execution_count": 5,
   "id": "d577dda8",
   "metadata": {},
   "outputs": [
    {
     "name": "stdout",
     "output_type": "stream",
     "text": [
      "The dataset has 100 rows and 6 columns.\n"
     ]
    }
   ],
   "source": [
    "print(f'The dataset has {df.shape[0]} rows and {df.shape[1]} columns.') # shape of the data set (rows, columns)"
   ]
  },
  {
   "cell_type": "code",
   "execution_count": 6,
   "id": "0e6fdeb5",
   "metadata": {},
   "outputs": [
    {
     "name": "stdout",
     "output_type": "stream",
     "text": [
      "<class 'pandas.core.frame.DataFrame'>\n",
      "RangeIndex: 100 entries, 0 to 99\n",
      "Data columns (total 6 columns):\n",
      " #   Column                  Non-Null Count  Dtype  \n",
      "---  ------                  --------------  -----  \n",
      " 0   user_id                 100 non-null    int64  \n",
      " 1   group                   100 non-null    object \n",
      " 2   landing_page            100 non-null    object \n",
      " 3   time_spent_on_the_page  100 non-null    float64\n",
      " 4   converted               100 non-null    object \n",
      " 5   language_preferred      100 non-null    object \n",
      "dtypes: float64(1), int64(1), object(4)\n",
      "memory usage: 4.8+ KB\n"
     ]
    }
   ],
   "source": [
    "df.info() # summary of structure of the data set and dataypes, quantity of null values per column"
   ]
  },
  {
   "cell_type": "code",
   "execution_count": 7,
   "id": "62649d3a",
   "metadata": {},
   "outputs": [
    {
     "data": {
      "text/html": [
       "<div>\n",
       "<style scoped>\n",
       "    .dataframe tbody tr th:only-of-type {\n",
       "        vertical-align: middle;\n",
       "    }\n",
       "\n",
       "    .dataframe tbody tr th {\n",
       "        vertical-align: top;\n",
       "    }\n",
       "\n",
       "    .dataframe thead th {\n",
       "        text-align: right;\n",
       "    }\n",
       "</style>\n",
       "<table border=\"1\" class=\"dataframe\">\n",
       "  <thead>\n",
       "    <tr style=\"text-align: right;\">\n",
       "      <th></th>\n",
       "      <th>count</th>\n",
       "      <th>unique</th>\n",
       "      <th>top</th>\n",
       "      <th>freq</th>\n",
       "      <th>mean</th>\n",
       "      <th>std</th>\n",
       "      <th>min</th>\n",
       "      <th>25%</th>\n",
       "      <th>50%</th>\n",
       "      <th>75%</th>\n",
       "      <th>max</th>\n",
       "    </tr>\n",
       "  </thead>\n",
       "  <tbody>\n",
       "    <tr>\n",
       "      <th>user_id</th>\n",
       "      <td>100.00</td>\n",
       "      <td>NaN</td>\n",
       "      <td>NaN</td>\n",
       "      <td>NaN</td>\n",
       "      <td>546517.00</td>\n",
       "      <td>52.30</td>\n",
       "      <td>546443.00</td>\n",
       "      <td>546467.75</td>\n",
       "      <td>546492.50</td>\n",
       "      <td>546567.25</td>\n",
       "      <td>546592.00</td>\n",
       "    </tr>\n",
       "    <tr>\n",
       "      <th>group</th>\n",
       "      <td>100</td>\n",
       "      <td>2</td>\n",
       "      <td>control</td>\n",
       "      <td>50</td>\n",
       "      <td>NaN</td>\n",
       "      <td>NaN</td>\n",
       "      <td>NaN</td>\n",
       "      <td>NaN</td>\n",
       "      <td>NaN</td>\n",
       "      <td>NaN</td>\n",
       "      <td>NaN</td>\n",
       "    </tr>\n",
       "    <tr>\n",
       "      <th>landing_page</th>\n",
       "      <td>100</td>\n",
       "      <td>2</td>\n",
       "      <td>old</td>\n",
       "      <td>50</td>\n",
       "      <td>NaN</td>\n",
       "      <td>NaN</td>\n",
       "      <td>NaN</td>\n",
       "      <td>NaN</td>\n",
       "      <td>NaN</td>\n",
       "      <td>NaN</td>\n",
       "      <td>NaN</td>\n",
       "    </tr>\n",
       "    <tr>\n",
       "      <th>time_spent_on_the_page</th>\n",
       "      <td>100.00</td>\n",
       "      <td>NaN</td>\n",
       "      <td>NaN</td>\n",
       "      <td>NaN</td>\n",
       "      <td>5.38</td>\n",
       "      <td>2.38</td>\n",
       "      <td>0.19</td>\n",
       "      <td>3.88</td>\n",
       "      <td>5.42</td>\n",
       "      <td>7.02</td>\n",
       "      <td>10.71</td>\n",
       "    </tr>\n",
       "    <tr>\n",
       "      <th>converted</th>\n",
       "      <td>100</td>\n",
       "      <td>2</td>\n",
       "      <td>yes</td>\n",
       "      <td>54</td>\n",
       "      <td>NaN</td>\n",
       "      <td>NaN</td>\n",
       "      <td>NaN</td>\n",
       "      <td>NaN</td>\n",
       "      <td>NaN</td>\n",
       "      <td>NaN</td>\n",
       "      <td>NaN</td>\n",
       "    </tr>\n",
       "    <tr>\n",
       "      <th>language_preferred</th>\n",
       "      <td>100</td>\n",
       "      <td>3</td>\n",
       "      <td>Spanish</td>\n",
       "      <td>34</td>\n",
       "      <td>NaN</td>\n",
       "      <td>NaN</td>\n",
       "      <td>NaN</td>\n",
       "      <td>NaN</td>\n",
       "      <td>NaN</td>\n",
       "      <td>NaN</td>\n",
       "      <td>NaN</td>\n",
       "    </tr>\n",
       "  </tbody>\n",
       "</table>\n",
       "</div>"
      ],
      "text/plain": [
       "                        count unique      top freq      mean   std       min  \\\n",
       "user_id                100.00    NaN      NaN  NaN 546517.00 52.30 546443.00   \n",
       "group                     100      2  control   50       NaN   NaN       NaN   \n",
       "landing_page              100      2      old   50       NaN   NaN       NaN   \n",
       "time_spent_on_the_page 100.00    NaN      NaN  NaN      5.38  2.38      0.19   \n",
       "converted                 100      2      yes   54       NaN   NaN       NaN   \n",
       "language_preferred        100      3  Spanish   34       NaN   NaN       NaN   \n",
       "\n",
       "                             25%       50%       75%       max  \n",
       "user_id                546467.75 546492.50 546567.25 546592.00  \n",
       "group                        NaN       NaN       NaN       NaN  \n",
       "landing_page                 NaN       NaN       NaN       NaN  \n",
       "time_spent_on_the_page      3.88      5.42      7.02     10.71  \n",
       "converted                    NaN       NaN       NaN       NaN  \n",
       "language_preferred           NaN       NaN       NaN       NaN  "
      ]
     },
     "execution_count": 7,
     "metadata": {},
     "output_type": "execute_result"
    }
   ],
   "source": [
    "df.describe(include = 'all').T # statistical summary"
   ]
  },
  {
   "cell_type": "code",
   "execution_count": 8,
   "id": "69204dd4",
   "metadata": {},
   "outputs": [
    {
     "data": {
      "text/plain": [
       "user_id                   0\n",
       "group                     0\n",
       "landing_page              0\n",
       "time_spent_on_the_page    0\n",
       "converted                 0\n",
       "language_preferred        0\n",
       "dtype: int64"
      ]
     },
     "execution_count": 8,
     "metadata": {},
     "output_type": "execute_result"
    }
   ],
   "source": [
    "df.isna().sum() # checking for nulls"
   ]
  },
  {
   "cell_type": "code",
   "execution_count": 9,
   "id": "e41738c7",
   "metadata": {},
   "outputs": [
    {
     "data": {
      "text/plain": [
       "True"
      ]
     },
     "execution_count": 9,
     "metadata": {},
     "output_type": "execute_result"
    }
   ],
   "source": [
    "df.drop_duplicates().shape == df.shape # checking for duplicate rows. True = no duplicates."
   ]
  },
  {
   "cell_type": "markdown",
   "id": "3f046b27",
   "metadata": {},
   "source": [
    "**Observations about the data:**\n",
    "\n",
    "* No apparent issues with the data types. The user ID is interpreted as an integer, while the rest of the categorical variables are expressed as strings. The only numerical variable, time spent on the page, being a continuous numerical value, is expressed as a float.\n",
    "* For the analysis purposes, the \"group\" and \"landing_page\" columns seem to be redundant. The control group is shown the old landing page, apparently.\n",
    "* Overall, the time spent on the page ranges between 0.19 and 10.71 minutes, with an average of 5.38 minutes, very close to the median of 5.42 minutes so apparently there's no skewness in the distribution. 50% of the data ranges between 3.88 and 7.02 minutes (IQR).\n",
    "* 54% of the whole group of users were converted.\n",
    "* The dataset has 100 records (rows) with no duplicates or null values."
   ]
  },
  {
   "cell_type": "markdown",
   "id": "621107df",
   "metadata": {},
   "source": [
    "### Auxiliary parameters and functions"
   ]
  },
  {
   "cell_type": "markdown",
   "id": "5ddcc9bb",
   "metadata": {},
   "source": [
    "First, let's define some parameters and auxiliary functions that will help streamline the analyses ahead."
   ]
  },
  {
   "cell_type": "code",
   "execution_count": 10,
   "id": "7507c75e",
   "metadata": {},
   "outputs": [],
   "source": [
    "# significance level for all tests, unless explicitly stated\n",
    "alpha = 0.05\n",
    "\n",
    "# auxiliary function to express the result of any test\n",
    "def h_0_rej(p, a):\n",
    "    if p < a:\n",
    "        txt = ''\n",
    "    else:\n",
    "        txt = 'not '\n",
    "    print (f'P-value = {p}\\nSignificance level = {a}\\nThe p-value is {txt}less than the significance level.\\nConsequently, the null hypothesis is {txt}rejected.')"
   ]
  },
  {
   "cell_type": "markdown",
   "id": "68f3b2c9",
   "metadata": {
    "id": "68f3b2c9"
   },
   "source": [
    "### Univariate Analysis"
   ]
  },
  {
   "cell_type": "markdown",
   "id": "f4eb3b07",
   "metadata": {},
   "source": [
    "Note: Not every data column seem to merit a plot visualization to get enough understanding of its behavior; plots will be reserved for some cases, for a tidier, less crowded presentation."
   ]
  },
  {
   "cell_type": "markdown",
   "id": "2ee0522b",
   "metadata": {},
   "source": [
    "#### User ID:"
   ]
  },
  {
   "cell_type": "code",
   "execution_count": 11,
   "id": "1932d0f3",
   "metadata": {
    "id": "1932d0f3"
   },
   "outputs": [
    {
     "data": {
      "text/plain": [
       "100"
      ]
     },
     "execution_count": 11,
     "metadata": {},
     "output_type": "execute_result"
    }
   ],
   "source": [
    "df['user_id'].unique().shape[0] # number of unique user ID's"
   ]
  },
  {
   "cell_type": "markdown",
   "id": "d65d99c2",
   "metadata": {},
   "source": [
    "**Observation:**\n",
    "There are no duplicated user ID's, which could've invalidated some data points."
   ]
  },
  {
   "cell_type": "markdown",
   "id": "7bb982fa",
   "metadata": {},
   "source": [
    "#### Group:"
   ]
  },
  {
   "cell_type": "code",
   "execution_count": 12,
   "id": "3f972868",
   "metadata": {},
   "outputs": [
    {
     "data": {
      "text/plain": [
       "control      50\n",
       "treatment    50\n",
       "Name: group, dtype: int64"
      ]
     },
     "execution_count": 12,
     "metadata": {},
     "output_type": "execute_result"
    }
   ],
   "source": [
    "df['group'].value_counts()"
   ]
  },
  {
   "cell_type": "markdown",
   "id": "fa06101b",
   "metadata": {},
   "source": [
    "**Observation:**\n",
    "The group is evenly split (50/50) between the control and treatment group."
   ]
  },
  {
   "cell_type": "markdown",
   "id": "a1249dbb",
   "metadata": {},
   "source": [
    "#### Landing Page:"
   ]
  },
  {
   "cell_type": "code",
   "execution_count": 13,
   "id": "9b709213",
   "metadata": {},
   "outputs": [
    {
     "data": {
      "text/plain": [
       "old    50\n",
       "new    50\n",
       "Name: landing_page, dtype: int64"
      ]
     },
     "execution_count": 13,
     "metadata": {},
     "output_type": "execute_result"
    }
   ],
   "source": [
    "df['landing_page'].value_counts()"
   ]
  },
  {
   "cell_type": "markdown",
   "id": "d4e084d7",
   "metadata": {},
   "source": [
    "**Observation:**\n",
    "The group is evenly split (50/50) between the old and new landing page (overlapped with the 'group' column)."
   ]
  },
  {
   "cell_type": "markdown",
   "id": "50b87ecd",
   "metadata": {},
   "source": [
    "#### Converted:"
   ]
  },
  {
   "cell_type": "code",
   "execution_count": 14,
   "id": "1e2a7042",
   "metadata": {},
   "outputs": [
    {
     "data": {
      "text/plain": [
       "yes    54\n",
       "no     46\n",
       "Name: converted, dtype: int64"
      ]
     },
     "execution_count": 14,
     "metadata": {},
     "output_type": "execute_result"
    }
   ],
   "source": [
    "df['converted'].value_counts()"
   ]
  },
  {
   "cell_type": "code",
   "execution_count": 15,
   "id": "9e9c7ba0",
   "metadata": {},
   "outputs": [
    {
     "data": {
      "image/png": "[encoded data removed]",
      "text/plain": [
       "<Figure size 288x216 with 1 Axes>"
      ]
     },
     "metadata": {
      "needs_background": "light"
     },
     "output_type": "display_data"
    }
   ],
   "source": [
    "plt.figure(figsize=(4,3))\n",
    "sns.countplot(data = df, \n",
    "             x = 'converted', \n",
    "             palette = 'colorblind')\n",
    "\n",
    "plt.title('Converted - Countplot', fontsize = 15)\n",
    "plt.xlabel('Converted')\n",
    "plt.ylabel('Count')\n",
    "plt.show()"
   ]
  },
  {
   "cell_type": "markdown",
   "id": "b9c43781",
   "metadata": {},
   "source": [
    "**Observation:**\n",
    "54% of users got converted overall."
   ]
  },
  {
   "cell_type": "markdown",
   "id": "42f380e6",
   "metadata": {},
   "source": [
    "#### Language Preferred:"
   ]
  },
  {
   "cell_type": "code",
   "execution_count": 16,
   "id": "a4edec3d",
   "metadata": {},
   "outputs": [
    {
     "data": {
      "text/plain": [
       "Spanish    34\n",
       "French     34\n",
       "English    32\n",
       "Name: language_preferred, dtype: int64"
      ]
     },
     "execution_count": 16,
     "metadata": {},
     "output_type": "execute_result"
    }
   ],
   "source": [
    "df['language_preferred'].value_counts()"
   ]
  },
  {
   "cell_type": "code",
   "execution_count": 17,
   "id": "b55dccf2",
   "metadata": {},
   "outputs": [
    {
     "data": {
      "image/png": "[encoded data removed]",
      "text/plain": [
       "<Figure size 360x216 with 1 Axes>"
      ]
     },
     "metadata": {
      "needs_background": "light"
     },
     "output_type": "display_data"
    }
   ],
   "source": [
    "plt.figure(figsize=(5,3))\n",
    "sns.countplot(data = df, \n",
    "             x = 'language_preferred', \n",
    "             palette = 'colorblind')\n",
    "\n",
    "plt.title('Language preferred - Countplot', fontsize = 15)\n",
    "plt.xlabel('Language')\n",
    "plt.ylabel('Count')\n",
    "plt.show()"
   ]
  },
  {
   "cell_type": "markdown",
   "id": "4380bba3",
   "metadata": {},
   "source": [
    "**Observation:**\n",
    "The sample is almost equally distributed among the three preferred languages (Spanish, English and French)."
   ]
  },
  {
   "cell_type": "markdown",
   "id": "427ac9e3",
   "metadata": {},
   "source": [
    "#### Time Spent on the Page:"
   ]
  },
  {
   "cell_type": "code",
   "execution_count": 18,
   "id": "c026ab1f",
   "metadata": {},
   "outputs": [
    {
     "data": {
      "image/png": "[encoded data removed]",
      "text/plain": [
       "<Figure size 576x216 with 1 Axes>"
      ]
     },
     "metadata": {
      "needs_background": "light"
     },
     "output_type": "display_data"
    },
    {
     "data": {
      "image/png": "[encoded data removed]",
      "text/plain": [
       "<Figure size 576x144 with 1 Axes>"
      ]
     },
     "metadata": {
      "needs_background": "light"
     },
     "output_type": "display_data"
    }
   ],
   "source": [
    "plt.figure(figsize=(8,3))\n",
    "sns.histplot(data = df, \n",
    "             x = 'time_spent_on_the_page', \n",
    "             color = 'green', \n",
    "             binwidth = 0.7,\n",
    "             kde = True)\n",
    "plt.title('Time Spent on the Page - Histogram', fontsize = 15)\n",
    "plt.ylabel('Number of Cases')\n",
    "plt.xlabel('Time Spent on the Page')\n",
    "plt.show()\n",
    "\n",
    "plt.figure(figsize=(8,2))\n",
    "sns.boxplot(data = df, \n",
    "            x = 'time_spent_on_the_page', \n",
    "            color = 'orange')\n",
    "plt.title('Time Spent on the Page - Boxplot', fontsize = 15)\n",
    "plt.ylabel(' ')\n",
    "plt.xlabel('Time Spent on the Page')\n",
    "plt.show()"
   ]
  },
  {
   "cell_type": "markdown",
   "id": "1f882504",
   "metadata": {},
   "source": [
    "**Observation:**\n",
    "The time spent on the page looks normally distributed, with very little or no skewness and no extreme values. A Shapiro-Wilk test (at 5% of significance level) will be conducted on this data to check if it can be assumed to be normally distributed:\n",
    "\n",
    "$H_0$: the data is normally distributed.\n",
    "\n",
    "$H_a$: the data is not normally distributed."
   ]
  },
  {
   "cell_type": "code",
   "execution_count": 19,
   "id": "2bc4c784",
   "metadata": {},
   "outputs": [
    {
     "name": "stdout",
     "output_type": "stream",
     "text": [
      "Shapiro-Wilk's test results:\n",
      "P-value = 0.5643684267997742\n",
      "Significance level = 0.05\n",
      "The p-value is not less than the significance level.\n",
      "Consequently, the null hypothesis is not rejected.\n"
     ]
    }
   ],
   "source": [
    "# Shapiro-Wilk test\n",
    "stat, p = stats.shapiro(df['time_spent_on_the_page'])\n",
    "print ('Shapiro-Wilk\\'s test results:')\n",
    "h_0_rej(p, alpha)"
   ]
  },
  {
   "cell_type": "markdown",
   "id": "bdd3925f",
   "metadata": {},
   "source": [
    "**Observation 2:**\n",
    "For testing purposes, it can be assumed that the data in this column is normally distributed."
   ]
  },
  {
   "cell_type": "markdown",
   "id": "fad2de2f",
   "metadata": {
    "id": "fad2de2f"
   },
   "source": [
    "### Bivariate Analysis"
   ]
  },
  {
   "cell_type": "markdown",
   "id": "995d5477",
   "metadata": {},
   "source": [
    "#### Landing page vs Group:\n",
    "\n",
    "First, let's confirm the overlapping of 'control' and 'landing_page' data, so further redundant analyses are avoided:"
   ]
  },
  {
   "cell_type": "code",
   "execution_count": 20,
   "id": "f953a2d4",
   "metadata": {},
   "outputs": [
    {
     "data": {
      "image/png": "[encoded data removed]",
      "text/plain": [
       "<Figure size 576x288 with 1 Axes>"
      ]
     },
     "metadata": {
      "needs_background": "light"
     },
     "output_type": "display_data"
    }
   ],
   "source": [
    "plt.figure(figsize=(8, 4))\n",
    "sns.countplot(data = df, \n",
    "            x = 'group', \n",
    "            hue = 'landing_page', \n",
    "            palette = 'colorblind', \n",
    "           )\n",
    "plt.title('Landing Page vs Group', fontsize = 15)\n",
    "plt.ylabel('Count')\n",
    "plt.xlabel('Group')\n",
    "plt.show()"
   ]
  },
  {
   "cell_type": "code",
   "execution_count": 21,
   "id": "1463885e",
   "metadata": {},
   "outputs": [
    {
     "data": {
      "text/plain": [
       "group      landing_page\n",
       "control    old             50\n",
       "treatment  new             50\n",
       "Name: group, dtype: int64"
      ]
     },
     "execution_count": 21,
     "metadata": {},
     "output_type": "execute_result"
    }
   ],
   "source": [
    "df.groupby(['group', 'landing_page'])['group'].count()"
   ]
  },
  {
   "cell_type": "markdown",
   "id": "dc335253",
   "metadata": {},
   "source": [
    "**Observation:**\n",
    "As can be seen from the grouping of data and the visualization, both data columns are effectively redundant. The 'control' column will be ignored from now on."
   ]
  },
  {
   "cell_type": "markdown",
   "id": "ac898308",
   "metadata": {},
   "source": [
    "#### Landing Page vs Time Spent on the Page:"
   ]
  },
  {
   "cell_type": "code",
   "execution_count": 22,
   "id": "c29276f3",
   "metadata": {
    "scrolled": true
   },
   "outputs": [
    {
     "data": {
      "image/png": "[encoded data removed]",
      "text/plain": [
       "<Figure size 576x216 with 1 Axes>"
      ]
     },
     "metadata": {
      "needs_background": "light"
     },
     "output_type": "display_data"
    }
   ],
   "source": [
    "plt.figure(figsize=(8, 3))\n",
    "sns.boxplot(data = df, \n",
    "            x = 'time_spent_on_the_page', \n",
    "            y = 'landing_page', \n",
    "            palette = 'colorblind', \n",
    "           )\n",
    "plt.title('Time Spent on the Page vs Landing Page', fontsize = 15)\n",
    "plt.ylabel('Landing Page')\n",
    "plt.xlabel('Time Spent on the Page (min)')\n",
    "plt.show()"
   ]
  },
  {
   "cell_type": "markdown",
   "id": "a0412627",
   "metadata": {},
   "source": [
    "**Observation:**\n",
    "The former box plot shows that the time spent on the new page is higher than for the old page for the samples taken. The median for the new page is higher than the median for the old page. At least half the old page sample has lower values than at least 75% of the new page sample (comparing P50 of the old page sample with P25 of the new page sample). Further testing ahead in this document will tell if this difference is significant enough to infer something about the underlying population."
   ]
  },
  {
   "cell_type": "markdown",
   "id": "4affb075",
   "metadata": {},
   "source": [
    "#### Converted vs Time Spent on the Page:"
   ]
  },
  {
   "cell_type": "code",
   "execution_count": 23,
   "id": "590fd625",
   "metadata": {
    "scrolled": true
   },
   "outputs": [
    {
     "data": {
      "image/png": "[encoded data removed]",
      "text/plain": [
       "<Figure size 576x216 with 1 Axes>"
      ]
     },
     "metadata": {
      "needs_background": "light"
     },
     "output_type": "display_data"
    }
   ],
   "source": [
    "plt.figure(figsize=(8, 3))\n",
    "sns.boxplot(data = df, \n",
    "            x = 'time_spent_on_the_page', \n",
    "            y = 'converted', \n",
    "            palette = 'colorblind', \n",
    "           )\n",
    "plt.title('Time Spent on the Page vs Converted', fontsize = 15)\n",
    "plt.ylabel('Converted')\n",
    "plt.xlabel('Time Spent on the Page')\n",
    "plt.show()"
   ]
  },
  {
   "cell_type": "markdown",
   "id": "d63eb70d",
   "metadata": {},
   "source": [
    "**Observation:**\n",
    "The former box plot shows that, the time spent on the page is higher for converted users than for non-converted users in the sample taken. Let's add the distinction between old and new landing page:"
   ]
  },
  {
   "cell_type": "code",
   "execution_count": 24,
   "id": "c945cf8a",
   "metadata": {},
   "outputs": [
    {
     "data": {
      "image/png": "[encoded data removed]",
      "text/plain": [
       "<Figure size 576x216 with 1 Axes>"
      ]
     },
     "metadata": {
      "needs_background": "light"
     },
     "output_type": "display_data"
    }
   ],
   "source": [
    "plt.figure(figsize=(8, 3))\n",
    "sns.boxplot(data = df, \n",
    "            x = 'time_spent_on_the_page', \n",
    "            y = 'converted', \n",
    "            hue = 'landing_page',\n",
    "            palette = 'colorblind', \n",
    "           )\n",
    "plt.title('Time Spent on the Page vs Converted vs Landing Page', fontsize = 15)\n",
    "plt.ylabel('Converted')\n",
    "plt.xlabel('Time Spent on the Page')\n",
    "plt.show()"
   ]
  },
  {
   "cell_type": "markdown",
   "id": "07c04408",
   "metadata": {},
   "source": [
    "**Observation:**\n",
    "The former box plot shows that, for both groups of the sample (converted and non-converted), the time spent on the page is higher for the new page than for the old page.\n",
    "\n",
    "These visualizations hint at a relationship between the **landing page** and the **converted** status for the sampled users:"
   ]
  },
  {
   "cell_type": "markdown",
   "id": "42551e90",
   "metadata": {},
   "source": [
    "#### Landing page vs Converted status:"
   ]
  },
  {
   "cell_type": "code",
   "execution_count": 25,
   "id": "0095cd81",
   "metadata": {},
   "outputs": [
    {
     "data": {
      "image/png": "[encoded data removed]",
      "text/plain": [
       "<Figure size 576x288 with 1 Axes>"
      ]
     },
     "metadata": {
      "needs_background": "light"
     },
     "output_type": "display_data"
    }
   ],
   "source": [
    "plt.figure(figsize=(8, 4))\n",
    "sns.countplot(data = df, \n",
    "            x = 'landing_page', \n",
    "            hue = 'converted', \n",
    "            palette = 'colorblind', \n",
    "           )\n",
    "plt.title('Converted vs Page', fontsize = 15)\n",
    "plt.ylabel('Count')\n",
    "plt.xlabel('Landing Page')\n",
    "plt.show()"
   ]
  },
  {
   "cell_type": "markdown",
   "id": "ad687f68",
   "metadata": {},
   "source": [
    "**Observation:**\n",
    "The former count plot shows that the number of converted users is higher for the new page sample than for the old page one. Given that the size of each sample for the old and new page are equal, this also means that the relative quantity (proportion) of conversion for the sample of the new page users is also higher. This relationship will be explored further in one of the statistical tests ahead."
   ]
  },
  {
   "cell_type": "markdown",
   "id": "8b020aa7",
   "metadata": {},
   "source": [
    "#### Language Preferred vs Time Spent on the Page:"
   ]
  },
  {
   "cell_type": "code",
   "execution_count": 26,
   "id": "5d76cd7f",
   "metadata": {},
   "outputs": [
    {
     "data": {
      "image/png": "[encoded data removed]",
      "text/plain": [
       "<Figure size 576x288 with 1 Axes>"
      ]
     },
     "metadata": {
      "needs_background": "light"
     },
     "output_type": "display_data"
    }
   ],
   "source": [
    "plt.figure(figsize=(8, 4))\n",
    "sns.boxplot(data = df, \n",
    "            x = 'time_spent_on_the_page', \n",
    "            y = 'language_preferred', \n",
    "            palette = 'colorblind', \n",
    "           )\n",
    "plt.title('Time Spent on the Page vs Language', fontsize = 15)\n",
    "plt.ylabel('Preferred Languge')\n",
    "plt.xlabel('Time Spent on the Page')\n",
    "plt.show()"
   ]
  },
  {
   "cell_type": "markdown",
   "id": "9a1514b0",
   "metadata": {},
   "source": [
    "**Observation:** The distribution of the variable Time Spent on the Page doesn't seem to change much across the Language preferred variable. Spanish-preferring users seem to show less variability for the time spent on the page.\n",
    "\n",
    "What if we separate the sample between users of the new and the old Landing Page?"
   ]
  },
  {
   "cell_type": "code",
   "execution_count": 27,
   "id": "135fcc10",
   "metadata": {},
   "outputs": [
    {
     "data": {
      "image/png": "[encoded data removed]",
      "text/plain": [
       "<Figure size 576x288 with 1 Axes>"
      ]
     },
     "metadata": {
      "needs_background": "light"
     },
     "output_type": "display_data"
    }
   ],
   "source": [
    "plt.figure(figsize=(8, 4))\n",
    "sns.boxplot(data = df, \n",
    "            x = 'time_spent_on_the_page', \n",
    "            hue = 'language_preferred', \n",
    "            y = 'landing_page',\n",
    "            palette = 'colorblind', \n",
    "           )\n",
    "plt.title('Time Spent on the Page vs Landing Page vs Language', fontsize = 15)\n",
    "plt.ylabel('Landing Page')\n",
    "plt.xlabel('Time Spent on the Page')\n",
    "plt.show()"
   ]
  },
  {
   "cell_type": "markdown",
   "id": "85192760",
   "metadata": {},
   "source": [
    "**Observation:** The distribution of the variable Time Spent on the Page shows more variability between language categories when we separate the groups of users of the new vs the old page. In fact, English-preferring users show the biggest change in terms of time spent on the page. Also, times spent on the new page seem to show less variability. The representativity of the observations for the new page will be explored further in one of the statistical tests ahead."
   ]
  },
  {
   "cell_type": "markdown",
   "id": "4302b176",
   "metadata": {},
   "source": [
    "#### Language Preferred vs Landing Page:"
   ]
  },
  {
   "cell_type": "code",
   "execution_count": 28,
   "id": "ca74e453",
   "metadata": {},
   "outputs": [
    {
     "data": {
      "image/png": "[encoded data removed]",
      "text/plain": [
       "<Figure size 576x288 with 1 Axes>"
      ]
     },
     "metadata": {
      "needs_background": "light"
     },
     "output_type": "display_data"
    }
   ],
   "source": [
    "plt.figure(figsize=(8, 4))\n",
    "sns.countplot(data = df, \n",
    "            x = 'landing_page', \n",
    "            hue = 'language_preferred', \n",
    "            palette = 'colorblind', \n",
    "           )\n",
    "plt.title('Landing Page vs Language', fontsize = 15)\n",
    "plt.ylabel('Count')\n",
    "plt.xlabel('Landing Page')\n",
    "plt.show()"
   ]
  },
  {
   "cell_type": "markdown",
   "id": "6fd5acf1",
   "metadata": {},
   "source": [
    "**Observation:** Each group of users of the new and old page seem to have an almost equal distribution of language preference groups."
   ]
  },
  {
   "cell_type": "markdown",
   "id": "88b3be93",
   "metadata": {},
   "source": [
    "#### Language Preferred vs Converted status:"
   ]
  },
  {
   "cell_type": "code",
   "execution_count": 29,
   "id": "f447d86a",
   "metadata": {},
   "outputs": [
    {
     "data": {
      "image/png": "[encoded data removed]",
      "text/plain": [
       "<Figure size 576x288 with 1 Axes>"
      ]
     },
     "metadata": {
      "needs_background": "light"
     },
     "output_type": "display_data"
    }
   ],
   "source": [
    "plt.figure(figsize=(8, 4))\n",
    "sns.countplot(data = df, \n",
    "            x = 'language_preferred', \n",
    "            hue = 'converted', \n",
    "            palette = 'colorblind', \n",
    "           )\n",
    "plt.title('Language vs Converted', fontsize = 15)\n",
    "plt.ylabel('Count')\n",
    "plt.xlabel('Language')\n",
    "plt.show()"
   ]
  },
  {
   "cell_type": "markdown",
   "id": "99efd126",
   "metadata": {},
   "source": [
    "**Observation:** English-preferring users in this sample seem to have a higher number of converted users, followed by spanish-preferring users. French-preferring users seem to have the least conversion numbers, both in absolute and relative terms."
   ]
  },
  {
   "cell_type": "markdown",
   "id": "27906576",
   "metadata": {
    "id": "27906576"
   },
   "source": [
    "## 1. Do the users spend more time on the new landing page than the existing landing page?"
   ]
  },
  {
   "cell_type": "markdown",
   "id": "dcf0ac95",
   "metadata": {},
   "source": [
    "From the question, given there's no information about parameters of the population, it might be necessary to undertake a **two independent sample t-test for equality of means**. The modality (equal or unequal std devs) will depend on the relationship between the variances of both samples."
   ]
  },
  {
   "cell_type": "markdown",
   "id": "e5fdf0c8",
   "metadata": {
    "id": "e5fdf0c8"
   },
   "source": [
    "### Perform Visual Analysis"
   ]
  },
  {
   "cell_type": "code",
   "execution_count": 30,
   "id": "6eZJa41eg21n",
   "metadata": {
    "id": "6eZJa41eg21n",
    "scrolled": false
   },
   "outputs": [
    {
     "data": {
      "image/png": "[encoded data removed]",
      "text/plain": [
       "<Figure size 576x216 with 1 Axes>"
      ]
     },
     "metadata": {
      "needs_background": "light"
     },
     "output_type": "display_data"
    },
    {
     "data": {
      "image/png": "[encoded data removed]",
      "text/plain": [
       "<Figure size 576x288 with 1 Axes>"
      ]
     },
     "metadata": {
      "needs_background": "light"
     },
     "output_type": "display_data"
    }
   ],
   "source": [
    "plt.figure(figsize=(8,3))\n",
    "sns.histplot(data = df, \n",
    "             x = 'time_spent_on_the_page', \n",
    "             hue = 'landing_page',\n",
    "             palette = 'colorblind', \n",
    "             binwidth = 0.7,\n",
    "             kde = True)\n",
    "plt.title('Time Spent on the Page - Histogram (Old Page vs New Page)', fontsize = 15)\n",
    "plt.ylabel('Number of Cases')\n",
    "plt.xlabel('Time Spent on Page')\n",
    "plt.show()\n",
    "\n",
    "plt.figure(figsize=(8, 4))\n",
    "sns.boxplot(data = df, \n",
    "            x = 'time_spent_on_the_page', \n",
    "            y = 'landing_page',\n",
    "            palette = 'colorblind', \n",
    "           )\n",
    "plt.title('Time Spent on the Page - Boxplot (Old Page vs New Page)', fontsize = 15)\n",
    "plt.ylabel('')\n",
    "plt.xlabel('Time Spent on the Page')\n",
    "plt.show()"
   ]
  },
  {
   "cell_type": "code",
   "execution_count": 31,
   "id": "f03b2499",
   "metadata": {},
   "outputs": [
    {
     "data": {
      "text/html": [
       "<div>\n",
       "<style scoped>\n",
       "    .dataframe tbody tr th:only-of-type {\n",
       "        vertical-align: middle;\n",
       "    }\n",
       "\n",
       "    .dataframe tbody tr th {\n",
       "        vertical-align: top;\n",
       "    }\n",
       "\n",
       "    .dataframe thead th {\n",
       "        text-align: right;\n",
       "    }\n",
       "</style>\n",
       "<table border=\"1\" class=\"dataframe\">\n",
       "  <thead>\n",
       "    <tr style=\"text-align: right;\">\n",
       "      <th>landing_page</th>\n",
       "      <th>new</th>\n",
       "      <th>old</th>\n",
       "    </tr>\n",
       "  </thead>\n",
       "  <tbody>\n",
       "    <tr>\n",
       "      <th>count</th>\n",
       "      <td>50.00</td>\n",
       "      <td>50.00</td>\n",
       "    </tr>\n",
       "    <tr>\n",
       "      <th>mean</th>\n",
       "      <td>6.22</td>\n",
       "      <td>4.53</td>\n",
       "    </tr>\n",
       "    <tr>\n",
       "      <th>std</th>\n",
       "      <td>1.82</td>\n",
       "      <td>2.58</td>\n",
       "    </tr>\n",
       "    <tr>\n",
       "      <th>min</th>\n",
       "      <td>1.65</td>\n",
       "      <td>0.19</td>\n",
       "    </tr>\n",
       "    <tr>\n",
       "      <th>25%</th>\n",
       "      <td>5.18</td>\n",
       "      <td>2.72</td>\n",
       "    </tr>\n",
       "    <tr>\n",
       "      <th>50%</th>\n",
       "      <td>6.11</td>\n",
       "      <td>4.38</td>\n",
       "    </tr>\n",
       "    <tr>\n",
       "      <th>75%</th>\n",
       "      <td>7.16</td>\n",
       "      <td>6.44</td>\n",
       "    </tr>\n",
       "    <tr>\n",
       "      <th>max</th>\n",
       "      <td>10.71</td>\n",
       "      <td>10.30</td>\n",
       "    </tr>\n",
       "  </tbody>\n",
       "</table>\n",
       "</div>"
      ],
      "text/plain": [
       "landing_page   new   old\n",
       "count        50.00 50.00\n",
       "mean          6.22  4.53\n",
       "std           1.82  2.58\n",
       "min           1.65  0.19\n",
       "25%           5.18  2.72\n",
       "50%           6.11  4.38\n",
       "75%           7.16  6.44\n",
       "max          10.71 10.30"
      ]
     },
     "execution_count": 31,
     "metadata": {},
     "output_type": "execute_result"
    }
   ],
   "source": [
    "df.groupby('landing_page')['time_spent_on_the_page'].describe().T # statistical summary for both old and new pages"
   ]
  },
  {
   "cell_type": "markdown",
   "id": "31c4a7a2",
   "metadata": {},
   "source": [
    "**Observation:** These visualizations, plus the statistical summary, allow for the observation that the distribution of time spent on the page, for old page and new page groups of the sample has a noticeable difference in mean time spent on the page, which needs to be submitted to a test if we are to infer the same relationship between the actual underlying populations."
   ]
  },
  {
   "cell_type": "markdown",
   "id": "56b3dafd",
   "metadata": {
    "id": "56b3dafd"
   },
   "source": [
    "### Step 1: Define the null and alternate hypotheses"
   ]
  },
  {
   "cell_type": "markdown",
   "id": "d2ac77ef",
   "metadata": {
    "id": "d2ac77ef"
   },
   "source": [
    "The formulation of the question: \"Do the users spend **more time** on the new landing page than the existing landing page\" calls for a one-tailed test that compares the means of two samples. The null hypothesis will be assumed as the \"status quo\" situation, where both means are equal. The alternative hypothesis will answer the question: is the time spent (on average) on the new page higher? In other words:\n",
    "\n",
    "$H_0$ : Time spent on both pages are equal, that is, $\\mu_2 = \\mu_1$\n",
    "\n",
    "$H_a$ : Time spent on the new page is higher than on the old page, that is, $\\mu_2 > \\mu_1$"
   ]
  },
  {
   "cell_type": "markdown",
   "id": "c7ee4907",
   "metadata": {
    "id": "c7ee4907"
   },
   "source": [
    "### Step 2: Select Appropriate test"
   ]
  },
  {
   "cell_type": "markdown",
   "id": "bb8efd68",
   "metadata": {
    "id": "2c183cd7"
   },
   "source": [
    "Given that the populations variances are not known, and we are comparing the means o two samples, the test we need to execute is a two independent samples t-test for equality of means.\n",
    "\n",
    "#### t-test assumptions checklist:\n",
    "\n",
    "* The time spent on the page is measured on a continuous scale **<-check**\n",
    "* Normally distributed populations **<-check** (see: Shapiro-Wilk test conducted before).\n",
    "* Problem statement tells us that the sampling was random, and no relationship was reported between users, so it can be safely assumed that the users of the old and new pages represent independent populations. **<-check**\n",
    "* Problem statement tells us that the sampling from the population was random **<-check**\n",
    "\n",
    "The only pending check is on the standard deviations (to determine if the t-test modality is of equal standard deviations, or unequal standard deviations. Can they be assumed to be equal, given that in the former statistical summary they don't look similar?"
   ]
  },
  {
   "cell_type": "code",
   "execution_count": 32,
   "id": "f5a59495",
   "metadata": {
    "id": "f5a59495"
   },
   "outputs": [],
   "source": [
    "# data arrays for both groups to tidy up the code\n",
    "time_old = df[df['landing_page'] == 'old']['time_spent_on_the_page']\n",
    "time_new = df[df['landing_page'] == 'new']['time_spent_on_the_page']"
   ]
  },
  {
   "cell_type": "code",
   "execution_count": 33,
   "id": "3650df72",
   "metadata": {},
   "outputs": [
    {
     "data": {
      "text/plain": [
       "1.42"
      ]
     },
     "execution_count": 33,
     "metadata": {},
     "output_type": "execute_result"
    }
   ],
   "source": [
    "round(time_old.std() / time_new.std(), 2) # factor between both samples' standard deviations"
   ]
  },
  {
   "cell_type": "markdown",
   "id": "26cf6b0d",
   "metadata": {},
   "source": [
    "Both standard deviations look quite different, with a 42% difference between them. We will apply a Levene test (at a 5% significance level) to check if they are significantly different, that is:\n",
    "\n",
    "$H_0$: The variances of the old page group and the new page group are equal.\n",
    "\n",
    "$H_a$: The variances of the old page group and the new page group are not equal."
   ]
  },
  {
   "cell_type": "code",
   "execution_count": 34,
   "id": "c3c73577",
   "metadata": {},
   "outputs": [
    {
     "name": "stdout",
     "output_type": "stream",
     "text": [
      "Levene's test results:\n",
      "P-value = 0.008950671168914445\n",
      "Significance level = 0.05\n",
      "The p-value is less than the significance level.\n",
      "Consequently, the null hypothesis is rejected.\n"
     ]
    }
   ],
   "source": [
    "# Levene test\n",
    "stat, p = stats.levene (time_old, time_new)\n",
    "print ('Levene\\'s test results:')\n",
    "h_0_rej(p, alpha)"
   ]
  },
  {
   "cell_type": "markdown",
   "id": "2c183cd7",
   "metadata": {
    "id": "2c183cd7"
   },
   "source": [
    "**Conclusion:** There's evidence to assume that the variances are unequal, so the t-test has to be run under the unequal standard deviations modality.\n",
    "\n",
    "**The assumptions are all met for a Two independent sample with unequal standard variances t-test**."
   ]
  },
  {
   "cell_type": "markdown",
   "id": "3f58c9a7",
   "metadata": {
    "id": "3f58c9a7"
   },
   "source": [
    "### Step 3: Decide the significance level"
   ]
  },
  {
   "cell_type": "markdown",
   "id": "92d7d7ee",
   "metadata": {
    "id": "92d7d7ee"
   },
   "source": [
    "The significance level ($\\alpha$) was defined in the problem statement as 5% (0.05). There's no reason to change it for this test."
   ]
  },
  {
   "cell_type": "markdown",
   "id": "5fed2eac",
   "metadata": {
    "id": "5fed2eac"
   },
   "source": [
    "### Step 4: Collect and prepare data"
   ]
  },
  {
   "cell_type": "markdown",
   "id": "e93b6e85",
   "metadata": {},
   "source": [
    "This step was during the selection of the test and assumption checking, for convenience and readability of the code."
   ]
  },
  {
   "cell_type": "markdown",
   "id": "f5c5258d",
   "metadata": {
    "id": "f5c5258d"
   },
   "source": [
    "### Step 5: Calculate the p-value"
   ]
  },
  {
   "cell_type": "code",
   "execution_count": 35,
   "id": "fac8594a",
   "metadata": {
    "id": "fac8594a"
   },
   "outputs": [
    {
     "name": "stdout",
     "output_type": "stream",
     "text": [
      "The p-value is: 0.0001392381225166549\n"
     ]
    }
   ],
   "source": [
    "# two independent sample t-test for equality of means, unequal standard deviations\n",
    "stat_1, p_val_1 = stats.stats.ttest_ind(time_new, time_old, equal_var = False, alternative = 'greater')\n",
    "print(f'The p-value is: {p_val_1}')"
   ]
  },
  {
   "cell_type": "markdown",
   "id": "359b12f8",
   "metadata": {
    "id": "359b12f8"
   },
   "source": [
    "### Step 6: Compare the p-value with $\\alpha$"
   ]
  },
  {
   "cell_type": "code",
   "execution_count": 36,
   "id": "7be47289",
   "metadata": {
    "id": "7be47289"
   },
   "outputs": [
    {
     "name": "stdout",
     "output_type": "stream",
     "text": [
      "Two independent samples t-test results:\n",
      "P-value = 0.0001392381225166549\n",
      "Significance level = 0.05\n",
      "The p-value is less than the significance level.\n",
      "Consequently, the null hypothesis is rejected.\n"
     ]
    }
   ],
   "source": [
    "# auxiliary function call for the comparison of p-val vs alpha and printing of the test result\n",
    "print ('Two independent samples t-test results:')\n",
    "h_0_rej(p_val_1, alpha)"
   ]
  },
  {
   "cell_type": "markdown",
   "id": "d9affc84",
   "metadata": {
    "id": "d9affc84"
   },
   "source": [
    "### Step 7:  Draw inference"
   ]
  },
  {
   "cell_type": "markdown",
   "id": "6b16dd4b",
   "metadata": {
    "id": "6b16dd4b"
   },
   "source": [
    "The test results allow for the rejection of the null hypothesis. In conclusion, we have enough statistical evidence to support the claim that users spend more time on the new landing page than on the old page."
   ]
  },
  {
   "cell_type": "markdown",
   "id": "1ad0823a",
   "metadata": {
    "id": "1ad0823a"
   },
   "source": [
    "**A similar approach will be followed to answer the other questions, but the steps will be more streamlined.**"
   ]
  },
  {
   "cell_type": "markdown",
   "id": "353e9d24",
   "metadata": {
    "id": "353e9d24"
   },
   "source": [
    "## 2. Is the conversion rate (the proportion of users who visit the landing page and get converted) for the new page greater than the conversion rate for the old page?"
   ]
  },
  {
   "cell_type": "markdown",
   "id": "85c498a8",
   "metadata": {
    "id": "b7f52898"
   },
   "source": [
    "From the question it can be preliminarily deducted that we might need to undertake a **Z-test for 2 proportions**."
   ]
  },
  {
   "cell_type": "markdown",
   "id": "ec7311ec",
   "metadata": {},
   "source": [
    "### Preliminary Analysis"
   ]
  },
  {
   "cell_type": "code",
   "execution_count": 37,
   "id": "6dbbe8cc",
   "metadata": {},
   "outputs": [
    {
     "data": {
      "text/plain": [
       "landing_page  converted\n",
       "new           no           17\n",
       "              yes          33\n",
       "old           no           29\n",
       "              yes          21\n",
       "Name: user_id, dtype: int64"
      ]
     },
     "execution_count": 37,
     "metadata": {},
     "output_type": "execute_result"
    }
   ],
   "source": [
    "df.groupby(['landing_page', 'converted'])['user_id'].count() # exploration of quantities to be worked upon"
   ]
  },
  {
   "cell_type": "code",
   "execution_count": 38,
   "id": "8464191e",
   "metadata": {},
   "outputs": [
    {
     "data": {
      "image/png": "[encoded data removed]",
      "text/plain": [
       "<Figure size 576x288 with 1 Axes>"
      ]
     },
     "metadata": {
      "needs_background": "light"
     },
     "output_type": "display_data"
    }
   ],
   "source": [
    "# recap of bivariate analysis already shown\n",
    "plt.figure(figsize=(8, 4))\n",
    "sns.countplot(data = df, \n",
    "            x = 'landing_page', \n",
    "            hue = 'converted', \n",
    "            palette = 'colorblind', \n",
    "            )\n",
    "plt.title('Landing Page vs Converted', fontsize = 15)\n",
    "plt.ylabel('Count')\n",
    "plt.xlabel('Landing Page')\n",
    "plt.show()"
   ]
  },
  {
   "cell_type": "markdown",
   "id": "dc3fae54",
   "metadata": {},
   "source": [
    "**Observation:** This visualization allows for the observation that the proportion of converted users among the new page sample is higher than for the old page sample. The significance of this difference will have to be tested according to the following Hypotheses."
   ]
  },
  {
   "cell_type": "markdown",
   "id": "ac6916b0",
   "metadata": {},
   "source": [
    "### Hypotheses Definition"
   ]
  },
  {
   "cell_type": "markdown",
   "id": "6964bdf2",
   "metadata": {},
   "source": [
    "The formulation of the question: \"Is the conversion rate (...) for the new page **greater** than the conversion rate for the old page\" calls for a one-tailed test that compares two proportions. The null hypothesis will be assumed as the \"status quo\" situation, where both conversion rates ($p_1$ and $p_2$) are equal. The alternative hypothesis will answer the question: Is the conversion rate for the new page users ($p_2$) higher than the conversion rate for the old page users ($p_1$)? In other words:\n",
    "\n",
    "$H_0$ : The proportions, or conversion rates, for both groups are equal, that is, $p_2 = p_1$\n",
    "\n",
    "$H_a$ : The conversion rate for the new page group is greater than for the old page group, that is, $p_2 > p_1$"
   ]
  },
  {
   "cell_type": "markdown",
   "id": "7d458cd3",
   "metadata": {},
   "source": [
    "### Data Preparation\n",
    "\n",
    "In the first place, the variables for the test construction are defined:"
   ]
  },
  {
   "cell_type": "code",
   "execution_count": 39,
   "id": "9d6a4d58",
   "metadata": {},
   "outputs": [],
   "source": [
    "n_new = df[df['landing_page'] == 'new'].shape[0] # size of the new page group\n",
    "n_old = df[df['landing_page'] == 'old'].shape[0] # size of the old page group\n",
    "\n",
    "n_new_conv = df[(df['landing_page'] == 'new') & (df['converted'] == 'yes')].shape[0] # q of converted users from the new page group\n",
    "n_old_conv = df[(df['landing_page'] == 'old') & (df['converted'] == 'yes')].shape[0] # q of converted users from the old page group"
   ]
  },
  {
   "cell_type": "markdown",
   "id": "12856800",
   "metadata": {},
   "source": [
    "### Test Selection and Assumption Checking"
   ]
  },
  {
   "cell_type": "markdown",
   "id": "b24c95e2",
   "metadata": {},
   "source": [
    "The question states we need to compare two proportions, for which the **Z-test of two proportions** is the only alternative available in this context.\n",
    "\n",
    "Assumptions for the **Z-test of two proportions**:\n",
    "* Binomially distributed populations: each \"test\" can return only 2 results: converted (yes) or not converted (no) **<- check**\n",
    "* No relationship was reported between users, so it can be safely assumed that the users of the old and new pages, converted or not, represent independent populations. **<-check**\n",
    "* Problem statement tells us that the sampling from the population was random **<-check**\n",
    "* The following code cell contains a check-up formula to verify if the conditions are met to assume that the distribution can be assumed as normal:"
   ]
  },
  {
   "cell_type": "code",
   "execution_count": 40,
   "id": "5e267268",
   "metadata": {
    "scrolled": true
   },
   "outputs": [
    {
     "data": {
      "text/plain": [
       "True"
      ]
     },
     "execution_count": 40,
     "metadata": {},
     "output_type": "execute_result"
    }
   ],
   "source": [
    "# checking assumptions: n * p >= 10 for each sample, in other words: number of 'success' cases >= 10 for each sample:\n",
    "(n_new_conv >= 10) and (n_old_conv >= 10)"
   ]
  },
  {
   "cell_type": "markdown",
   "id": "2e787072",
   "metadata": {},
   "source": [
    "In conclusion, **all assumptions needed to utilize the Z-test for two proportions are met**."
   ]
  },
  {
   "cell_type": "markdown",
   "id": "df903349",
   "metadata": {},
   "source": [
    "### Significance Level:\n",
    "The significance level ($\\alpha$) was defined in the problem statement as 5% (0.05). There's no reason to change it for this test."
   ]
  },
  {
   "cell_type": "markdown",
   "id": "6972d768",
   "metadata": {},
   "source": [
    "### Test construction, p-value calculation, and test result"
   ]
  },
  {
   "cell_type": "code",
   "execution_count": 41,
   "id": "c47dc6f9",
   "metadata": {},
   "outputs": [],
   "source": [
    "# counts of converted for each sample ('successes')\n",
    "count = np.array([n_new_conv, n_old_conv])\n",
    "\n",
    "# sample sizes\n",
    "n_obs = np.array([n_new, n_old])\n",
    "\n",
    "# z-test for 2 proportions\n",
    "stat_2, p_value_2 = proportion.proportions_ztest(count, n_obs, alternative = 'larger')"
   ]
  },
  {
   "cell_type": "code",
   "execution_count": 42,
   "id": "f3026be3",
   "metadata": {},
   "outputs": [
    {
     "name": "stdout",
     "output_type": "stream",
     "text": [
      "Two proportions Z-test results:\n",
      "P-value = 0.008026308204056278\n",
      "Significance level = 0.05\n",
      "The p-value is less than the significance level.\n",
      "Consequently, the null hypothesis is rejected.\n"
     ]
    }
   ],
   "source": [
    "# checking if the p_value is is less than the significance level\n",
    "print ('Two proportions Z-test results:')\n",
    "h_0_rej(p_value_2, alpha)"
   ]
  },
  {
   "cell_type": "markdown",
   "id": "e261423b",
   "metadata": {},
   "source": [
    "### Inference:"
   ]
  },
  {
   "cell_type": "markdown",
   "id": "2232fd91",
   "metadata": {},
   "source": [
    "The test results allow for the rejection of the null hypothesis. In conclusion, we have enough statistical evidence to support the claim that the conversion rate for new page users is greater than for old page users."
   ]
  },
  {
   "cell_type": "markdown",
   "id": "d49bfa2d",
   "metadata": {
    "id": "d49bfa2d"
   },
   "source": [
    "## 3. Is the conversion and preferred language are independent or related?"
   ]
  },
  {
   "cell_type": "markdown",
   "id": "c6f1e993",
   "metadata": {
    "id": "b0e63f17"
   },
   "source": [
    "Since this question pertains checking whether two categorical variables are related, a **chi-square test for independence** is called for."
   ]
  },
  {
   "cell_type": "markdown",
   "id": "14ec99f3",
   "metadata": {},
   "source": [
    "### Preliminary Analysis"
   ]
  },
  {
   "cell_type": "markdown",
   "id": "4d8b2470",
   "metadata": {},
   "source": [
    "The chi-squared test for independence requires the construction of a contingency table:"
   ]
  },
  {
   "cell_type": "code",
   "execution_count": 43,
   "id": "c4ec4b9e",
   "metadata": {},
   "outputs": [
    {
     "data": {
      "text/html": [
       "<div>\n",
       "<style scoped>\n",
       "    .dataframe tbody tr th:only-of-type {\n",
       "        vertical-align: middle;\n",
       "    }\n",
       "\n",
       "    .dataframe tbody tr th {\n",
       "        vertical-align: top;\n",
       "    }\n",
       "\n",
       "    .dataframe thead th {\n",
       "        text-align: right;\n",
       "    }\n",
       "</style>\n",
       "<table border=\"1\" class=\"dataframe\">\n",
       "  <thead>\n",
       "    <tr style=\"text-align: right;\">\n",
       "      <th>language_preferred</th>\n",
       "      <th>English</th>\n",
       "      <th>French</th>\n",
       "      <th>Spanish</th>\n",
       "      <th>All</th>\n",
       "    </tr>\n",
       "    <tr>\n",
       "      <th>converted</th>\n",
       "      <th></th>\n",
       "      <th></th>\n",
       "      <th></th>\n",
       "      <th></th>\n",
       "    </tr>\n",
       "  </thead>\n",
       "  <tbody>\n",
       "    <tr>\n",
       "      <th>no</th>\n",
       "      <td>11</td>\n",
       "      <td>19</td>\n",
       "      <td>16</td>\n",
       "      <td>46</td>\n",
       "    </tr>\n",
       "    <tr>\n",
       "      <th>yes</th>\n",
       "      <td>21</td>\n",
       "      <td>15</td>\n",
       "      <td>18</td>\n",
       "      <td>54</td>\n",
       "    </tr>\n",
       "    <tr>\n",
       "      <th>All</th>\n",
       "      <td>32</td>\n",
       "      <td>34</td>\n",
       "      <td>34</td>\n",
       "      <td>100</td>\n",
       "    </tr>\n",
       "  </tbody>\n",
       "</table>\n",
       "</div>"
      ],
      "text/plain": [
       "language_preferred  English  French  Spanish  All\n",
       "converted                                        \n",
       "no                       11      19       16   46\n",
       "yes                      21      15       18   54\n",
       "All                      32      34       34  100"
      ]
     },
     "execution_count": 43,
     "metadata": {},
     "output_type": "execute_result"
    }
   ],
   "source": [
    "# crosstab for contingency table preliminary inspection\n",
    "pd.crosstab(df['converted'],df['language_preferred'],margins=True)"
   ]
  },
  {
   "cell_type": "code",
   "execution_count": 44,
   "id": "2346a684",
   "metadata": {},
   "outputs": [
    {
     "data": {
      "image/png": "[encoded data removed]",
      "text/plain": [
       "<Figure size 432x288 with 1 Axes>"
      ]
     },
     "metadata": {
      "needs_background": "light"
     },
     "output_type": "display_data"
    }
   ],
   "source": [
    "# visual analysis of the contingency table\n",
    "pd.crosstab(df['language_preferred'], df['converted'], normalize=True).plot(kind='bar',stacked=True);"
   ]
  },
  {
   "cell_type": "markdown",
   "id": "5463ad38",
   "metadata": {},
   "source": [
    "**Observation:** From the observation of the former visualizations and table, the conversion rate for english-preferring users seems the highest, followed by spanish-preferring users' conversion rates. The subsequent test could allow to extend the observed relationship between samples, to the underlying population."
   ]
  },
  {
   "cell_type": "markdown",
   "id": "aa1ea08f",
   "metadata": {},
   "source": [
    "### Hypothesis Definition"
   ]
  },
  {
   "cell_type": "markdown",
   "id": "cb8f7029",
   "metadata": {},
   "source": [
    "The formulation of the question: \"(are) ... conversion and preferred language (...) independent or related?\" calls for a test of independence. The null hypothesis will be assumed as the \"status quo\" situation, where both categorical variables are independent. The alternative hypothesis will postulate that both variables are dependent. In other words:\n",
    "\n",
    "$H_0$ : Conversion is independent of Preferred Language.\n",
    "\n",
    "$H_a$ : Conversion and Preferred Language are dependent.\n",
    "\n",
    "Notice that out of mere common sense, we could conclude that conversion should be the dependent variable if the null hypothesis is rejected, but this consideration is not needed to execute the test. Also, this test won't determine causality between the variables."
   ]
  },
  {
   "cell_type": "markdown",
   "id": "e565b1f3",
   "metadata": {},
   "source": [
    "### Significance Level:\n",
    "The significance level ($\\alpha$) was defined in the problem statement as 5% (0.05). There's no reason to change it for this test."
   ]
  },
  {
   "cell_type": "markdown",
   "id": "92896fb5",
   "metadata": {},
   "source": [
    "### Data Preparation (contingency table)"
   ]
  },
  {
   "cell_type": "code",
   "execution_count": 45,
   "id": "17a0bdaa",
   "metadata": {},
   "outputs": [
    {
     "data": {
      "text/html": [
       "<div>\n",
       "<style scoped>\n",
       "    .dataframe tbody tr th:only-of-type {\n",
       "        vertical-align: middle;\n",
       "    }\n",
       "\n",
       "    .dataframe tbody tr th {\n",
       "        vertical-align: top;\n",
       "    }\n",
       "\n",
       "    .dataframe thead th {\n",
       "        text-align: right;\n",
       "    }\n",
       "</style>\n",
       "<table border=\"1\" class=\"dataframe\">\n",
       "  <thead>\n",
       "    <tr style=\"text-align: right;\">\n",
       "      <th>language_preferred</th>\n",
       "      <th>English</th>\n",
       "      <th>French</th>\n",
       "      <th>Spanish</th>\n",
       "    </tr>\n",
       "    <tr>\n",
       "      <th>converted</th>\n",
       "      <th></th>\n",
       "      <th></th>\n",
       "      <th></th>\n",
       "    </tr>\n",
       "  </thead>\n",
       "  <tbody>\n",
       "    <tr>\n",
       "      <th>no</th>\n",
       "      <td>11</td>\n",
       "      <td>19</td>\n",
       "      <td>16</td>\n",
       "    </tr>\n",
       "    <tr>\n",
       "      <th>yes</th>\n",
       "      <td>21</td>\n",
       "      <td>15</td>\n",
       "      <td>18</td>\n",
       "    </tr>\n",
       "  </tbody>\n",
       "</table>\n",
       "</div>"
      ],
      "text/plain": [
       "language_preferred  English  French  Spanish\n",
       "converted                                   \n",
       "no                       11      19       16\n",
       "yes                      21      15       18"
      ]
     },
     "execution_count": 45,
     "metadata": {},
     "output_type": "execute_result"
    }
   ],
   "source": [
    "# clean contingency table as input for the chi-square contingency test\n",
    "cont_table = pd.crosstab(df['converted'],df['language_preferred'])\n",
    "cont_table"
   ]
  },
  {
   "cell_type": "markdown",
   "id": "be562f30",
   "metadata": {},
   "source": [
    "### Test construction, p-value calculation, and test result"
   ]
  },
  {
   "cell_type": "code",
   "execution_count": 46,
   "id": "e7a0b76d",
   "metadata": {
    "scrolled": true
   },
   "outputs": [
    {
     "name": "stdout",
     "output_type": "stream",
     "text": [
      "Chi-squared Independence test results:\n",
      "P-value = 0.21298887487543447\n",
      "Significance level = 0.05\n",
      "The p-value is not less than the significance level.\n",
      "Consequently, the null hypothesis is not rejected.\n"
     ]
    }
   ],
   "source": [
    "# chi square test of independence\n",
    "chi, p_value_3, dof, expected = stats.chi2_contingency(cont_table)\n",
    "print ('Chi-squared Independence test results:')\n",
    "h_0_rej(p_value_3, alpha)"
   ]
  },
  {
   "cell_type": "markdown",
   "id": "347a1e05",
   "metadata": {},
   "source": [
    "### Inference:"
   ]
  },
  {
   "cell_type": "markdown",
   "id": "8e2bb06b",
   "metadata": {},
   "source": [
    "Unexpectedly, the test results indicate there's **not enough evidence to reject the null hypothesis**, that is, the affirmation that the number of converted users is dependent on their language preferrence is not supported.\n",
    "\n",
    "But is it because of lack of data? **Just as a sensitivity analysis**, we could repeat the test doubling the data quantities proportionally (see **Appendix**)."
   ]
  },
  {
   "cell_type": "markdown",
   "id": "8d585a90",
   "metadata": {
    "id": "8d585a90"
   },
   "source": [
    "## 4. Is the time spent on the new page same for the different language users?"
   ]
  },
  {
   "cell_type": "markdown",
   "id": "acdd0338",
   "metadata": {
    "id": "b422f395"
   },
   "source": [
    "Since the question requires comparing the means of more than 2 samples (3 in this case), the best suited test to answer it is the **One-way ANOVA F-test for Analysis of Variance** (ANOVA test from now onwards)."
   ]
  },
  {
   "cell_type": "markdown",
   "id": "22d5ef00",
   "metadata": {},
   "source": [
    "### Preliminary Analysis"
   ]
  },
  {
   "cell_type": "markdown",
   "id": "a4cf4768",
   "metadata": {},
   "source": [
    "Since the question is about the behavior of subsets of the sample exclusively for the new landing page group, it's necessary to analyze the latter subset of data:"
   ]
  },
  {
   "cell_type": "code",
   "execution_count": 47,
   "id": "f50f377e",
   "metadata": {
    "scrolled": true
   },
   "outputs": [
    {
     "data": {
      "text/html": [
       "<div>\n",
       "<style scoped>\n",
       "    .dataframe tbody tr th:only-of-type {\n",
       "        vertical-align: middle;\n",
       "    }\n",
       "\n",
       "    .dataframe tbody tr th {\n",
       "        vertical-align: top;\n",
       "    }\n",
       "\n",
       "    .dataframe thead th {\n",
       "        text-align: right;\n",
       "    }\n",
       "</style>\n",
       "<table border=\"1\" class=\"dataframe\">\n",
       "  <thead>\n",
       "    <tr style=\"text-align: right;\">\n",
       "      <th></th>\n",
       "      <th>user_id</th>\n",
       "      <th>group</th>\n",
       "      <th>landing_page</th>\n",
       "      <th>time_spent_on_the_page</th>\n",
       "      <th>converted</th>\n",
       "      <th>language_preferred</th>\n",
       "    </tr>\n",
       "  </thead>\n",
       "  <tbody>\n",
       "    <tr>\n",
       "      <th>1</th>\n",
       "      <td>546468</td>\n",
       "      <td>treatment</td>\n",
       "      <td>new</td>\n",
       "      <td>7.13</td>\n",
       "      <td>yes</td>\n",
       "      <td>English</td>\n",
       "    </tr>\n",
       "    <tr>\n",
       "      <th>2</th>\n",
       "      <td>546462</td>\n",
       "      <td>treatment</td>\n",
       "      <td>new</td>\n",
       "      <td>4.40</td>\n",
       "      <td>no</td>\n",
       "      <td>Spanish</td>\n",
       "    </tr>\n",
       "    <tr>\n",
       "      <th>4</th>\n",
       "      <td>546459</td>\n",
       "      <td>treatment</td>\n",
       "      <td>new</td>\n",
       "      <td>4.75</td>\n",
       "      <td>yes</td>\n",
       "      <td>Spanish</td>\n",
       "    </tr>\n",
       "    <tr>\n",
       "      <th>6</th>\n",
       "      <td>546448</td>\n",
       "      <td>treatment</td>\n",
       "      <td>new</td>\n",
       "      <td>5.25</td>\n",
       "      <td>yes</td>\n",
       "      <td>French</td>\n",
       "    </tr>\n",
       "    <tr>\n",
       "      <th>8</th>\n",
       "      <td>546461</td>\n",
       "      <td>treatment</td>\n",
       "      <td>new</td>\n",
       "      <td>10.71</td>\n",
       "      <td>yes</td>\n",
       "      <td>French</td>\n",
       "    </tr>\n",
       "  </tbody>\n",
       "</table>\n",
       "</div>"
      ],
      "text/plain": [
       "   user_id      group landing_page  time_spent_on_the_page converted  \\\n",
       "1   546468  treatment          new                    7.13       yes   \n",
       "2   546462  treatment          new                    4.40        no   \n",
       "4   546459  treatment          new                    4.75       yes   \n",
       "6   546448  treatment          new                    5.25       yes   \n",
       "8   546461  treatment          new                   10.71       yes   \n",
       "\n",
       "  language_preferred  \n",
       "1            English  \n",
       "2            Spanish  \n",
       "4            Spanish  \n",
       "6             French  \n",
       "8             French  "
      ]
     },
     "execution_count": 47,
     "metadata": {},
     "output_type": "execute_result"
    }
   ],
   "source": [
    "# subset for the new landing page data\n",
    "df_new = df[df['landing_page'] == 'new']\n",
    "df_new.head()"
   ]
  },
  {
   "cell_type": "markdown",
   "id": "51037b2f",
   "metadata": {},
   "source": [
    "#### Visual Analysis"
   ]
  },
  {
   "cell_type": "code",
   "execution_count": 48,
   "id": "2a538893",
   "metadata": {},
   "outputs": [
    {
     "data": {
      "image/png": "[encoded data removed]",
      "text/plain": [
       "<Figure size 576x288 with 1 Axes>"
      ]
     },
     "metadata": {
      "needs_background": "light"
     },
     "output_type": "display_data"
    }
   ],
   "source": [
    "plt.figure(figsize=(8, 4))\n",
    "sns.boxplot(data = df_new, \n",
    "            x = 'time_spent_on_the_page', \n",
    "            y = 'language_preferred', \n",
    "            palette = 'colorblind', \n",
    "           )\n",
    "plt.title('Time Spent on the New Page')\n",
    "plt.ylabel('Preferred Languge')\n",
    "plt.xlabel('Time Spent on the New Page')\n",
    "plt.show()"
   ]
  },
  {
   "cell_type": "markdown",
   "id": "b060c9a7",
   "metadata": {},
   "source": [
    "**Observation**: As it could be observed in the multivariate analysis of the EDA, if we consider only the group of users of the new landing page, there's an observable difference between the different language groups of the sample in their time spent on the page (while for both pages combined, the difference is almost negligible). The goal of this test is to determine if this difference is significant enough to infer a difference between the underlying populations' corresponding parameter."
   ]
  },
  {
   "cell_type": "markdown",
   "id": "65710142",
   "metadata": {},
   "source": [
    "### Hypothesis Definition"
   ]
  },
  {
   "cell_type": "markdown",
   "id": "530aa5fb",
   "metadata": {},
   "source": [
    "The formulation of the question: \"Is the time spent on the new page same for the different language users?\", given that there are three groups of different language users, calls for an **ANOVA test**. The null hypothesis will be assumed as the \"status quo\" situation, where the means for each group are equal. The alternative hypothesis will postulate that at least one of the group's means is different from the others. In other words:\n",
    "\n",
    "$H_0$ : The average time spent on the new page is the same for every language group, that is: $\\mu_1 = \\mu_2 = \\mu_3$\n",
    "\n",
    "$H_a$ : At least one of the language groups presents a different average time spent on the new page."
   ]
  },
  {
   "cell_type": "markdown",
   "id": "7f73d0c0",
   "metadata": {},
   "source": [
    "### Data Preparation"
   ]
  },
  {
   "cell_type": "code",
   "execution_count": 49,
   "id": "f8f12cb3",
   "metadata": {},
   "outputs": [],
   "source": [
    "# setting up data (for the Levene and the ANOVA test)\n",
    "time_new_spa = df_new[df_new['language_preferred'] == 'Spanish']['time_spent_on_the_page']\n",
    "time_new_eng = df_new[df_new['language_preferred'] == 'English']['time_spent_on_the_page']\n",
    "time_new_fre = df_new[df_new['language_preferred'] == 'French']['time_spent_on_the_page']"
   ]
  },
  {
   "cell_type": "markdown",
   "id": "a18684f3",
   "metadata": {},
   "source": [
    "### Test Selection and Assumption Checking"
   ]
  },
  {
   "cell_type": "markdown",
   "id": "8ce8d92b",
   "metadata": {},
   "source": [
    "The test best suited to answer the stated question is the **ANOVA test**.\n",
    "\n",
    "Assumptions for the **ANOVA test**:\n",
    "\n",
    "* The populations are normally distributed.\n",
    "    * Visual analysis:"
   ]
  },
  {
   "cell_type": "code",
   "execution_count": 50,
   "id": "e7f5155a",
   "metadata": {},
   "outputs": [
    {
     "data": {
      "image/png": "[encoded data removed]",
      "text/plain": [
       "<Figure size 576x216 with 1 Axes>"
      ]
     },
     "metadata": {
      "needs_background": "light"
     },
     "output_type": "display_data"
    }
   ],
   "source": [
    "plt.figure(figsize=(8,3))\n",
    "sns.histplot(data = df_new, \n",
    "             x = 'time_spent_on_the_page', \n",
    "             color = 'green', \n",
    "             binwidth = .8,\n",
    "             kde = True)\n",
    "plt.title('Time Spent on the New Page - Histogram', fontsize = 15)\n",
    "plt.ylabel('Number of Cases')\n",
    "plt.xlabel('Time Spent on the New Page')\n",
    "plt.show()"
   ]
  },
  {
   "cell_type": "markdown",
   "id": "a27b7812",
   "metadata": {},
   "source": [
    "**Observation**: The distribution of time spent on the new page looks symmetrical. To check if normality in its distribution can me assumed, a Shapiro-Wilk's test (at a 5% significance level) is called for. For this test, the null and alternative hypotheses are:\n",
    "\n",
    "$H_0$: the data is normally distributed.\n",
    "\n",
    "$H_a$: the data is not normally distributed."
   ]
  },
  {
   "cell_type": "code",
   "execution_count": 51,
   "id": "e4b6594d",
   "metadata": {},
   "outputs": [
    {
     "name": "stdout",
     "output_type": "stream",
     "text": [
      "Shapiro-Wilk's test results:\n",
      "P-value = 0.8040016293525696\n",
      "Significance level = 0.05\n",
      "The p-value is not less than the significance level.\n",
      "Consequently, the null hypothesis is not rejected.\n"
     ]
    }
   ],
   "source": [
    "# Shapiro-Wilk test\n",
    "stat, p = stats.shapiro(df_new['time_spent_on_the_page'])\n",
    "print ('Shapiro-Wilk\\'s test results:')\n",
    "h_0_rej(p, alpha)"
   ]
  },
  {
   "cell_type": "markdown",
   "id": "de2f15f4",
   "metadata": {},
   "source": [
    "Thus, the first assumption is met."
   ]
  },
  {
   "cell_type": "markdown",
   "id": "f03030b1",
   "metadata": {},
   "source": [
    "* Second assumption: population variances are homogeneous. To check is this assumption is met, a Levene test (at a 5% significance level) is called for. The test hypotheses are:\n",
    "\n",
    "$H_0$: The population variances are equal\n",
    "\n",
    "$H_a$: At least one variance is different from the rest"
   ]
  },
  {
   "cell_type": "code",
   "execution_count": 52,
   "id": "c7d1d649",
   "metadata": {},
   "outputs": [
    {
     "name": "stdout",
     "output_type": "stream",
     "text": [
      "Levene's test results:\n",
      "P-value = 0.46711357711340173\n",
      "Significance level = 0.05\n",
      "The p-value is not less than the significance level.\n",
      "Consequently, the null hypothesis is not rejected.\n"
     ]
    }
   ],
   "source": [
    "# Levene test\n",
    "stat, p = stats.levene (time_new_spa, time_new_eng, time_new_fre)\n",
    "print ('Levene\\'s test results:')\n",
    "h_0_rej(p, alpha)"
   ]
  },
  {
   "cell_type": "markdown",
   "id": "af5581ab",
   "metadata": {},
   "source": [
    "Given the former tests results, the following assumptions are met:\n",
    "* Population is normally distributed **<- check**\n",
    "* Variances are homogeneous **<- check**\n",
    "* Also, the sampling was random, and no relationship was reported between users, so the populations can be assumed to be independent. **<- check**\n",
    "\n",
    "**In conclusion, all the assumptions needed for the application of the ANOVA test are met.**"
   ]
  },
  {
   "cell_type": "markdown",
   "id": "5898130f",
   "metadata": {},
   "source": [
    "### Significance Level:\n",
    "The significance level ($\\alpha$) was defined in the problem statement as 5% (0.05). There's no reason to change it for this test."
   ]
  },
  {
   "cell_type": "markdown",
   "id": "7a496041",
   "metadata": {},
   "source": [
    "### Test construction, p-value calculation, and test result"
   ]
  },
  {
   "cell_type": "code",
   "execution_count": 53,
   "id": "f1abc036",
   "metadata": {
    "scrolled": true
   },
   "outputs": [
    {
     "name": "stdout",
     "output_type": "stream",
     "text": [
      "ANOVA test results:\n",
      "P-value = 0.43204138694325955\n",
      "Significance level = 0.05\n",
      "The p-value is not less than the significance level.\n",
      "Consequently, the null hypothesis is not rejected.\n"
     ]
    }
   ],
   "source": [
    "# One-way ANOVA Test\n",
    "stat_4, p_val_4 = stats.f_oneway(time_new_spa, time_new_eng, time_new_fre)\n",
    "print ('ANOVA test results:')\n",
    "h_0_rej(p_val_4, alpha)"
   ]
  },
  {
   "cell_type": "markdown",
   "id": "a618cb58",
   "metadata": {},
   "source": [
    "### Inference"
   ]
  },
  {
   "cell_type": "markdown",
   "id": "6bdca394",
   "metadata": {},
   "source": [
    "The test results indicate there's **not enough evidence to reject the null hypothesis**. This means that, given the characteristics of the sample, it cannot be inferred that the populations of different language groups differ in their mean time spent on the new page."
   ]
  },
  {
   "cell_type": "markdown",
   "id": "3acbc947",
   "metadata": {
    "id": "3acbc947"
   },
   "source": [
    "## Conclusion and Business Recommendations"
   ]
  },
  {
   "cell_type": "markdown",
   "id": "21fb1063",
   "metadata": {
    "id": "21fb1063"
   },
   "source": [
    "* Evidence shows that time spent on the new page is greater than on the old page, which could point to the users perceiving a better experience with the interface, visual attractiveness and/or content appeal. This effect is related to users' engagement and potentially or indirectly related to E-News Express revenue.\n",
    "* Also, there’s enough evidence to affirm that the new page is related to a higher rate of conversion. This point is especially important as it drives metrics directly related to E-News Express revenues.\n",
    "* Consequently, the recommendation is to favor and reinforce the new page design and keep making incremental improvements over it to avoid experiencing a decline in engagement in the future.\n",
    "* There’s not enough statistical evidence to affirm that language preference plays a role in time spent on the new page or conversion rates. However, the data hints at such a relationship. More data is called for to keep an eye on these relationships in the future.\n",
    "\n",
    "\n",
    "* Further investigation is called for in some respects, for example:\n",
    "    * other parameters (cultural for example) influencing the apparent (but not proven) relationship between language groups and different variables.\n",
    "    * other engagement metrics related to revenue, like clicks on sponsored links and/or banners is needed.\n",
    "    * Segmentation of the research data by type of content delivered (politics, economy & finance, sports, showbiz, arts, etc.)"
   ]
  },
  {
   "cell_type": "markdown",
   "id": "U0dAd4i0iCHo",
   "metadata": {
    "id": "U0dAd4i0iCHo"
   },
   "source": [
    "___"
   ]
  },
  {
   "cell_type": "markdown",
   "id": "3f27ddcc",
   "metadata": {},
   "source": [
    "### Appendix:\n",
    "\n",
    "Sensitivity analysis regarding question 3."
   ]
  },
  {
   "cell_type": "code",
   "execution_count": 54,
   "id": "9f7be02f",
   "metadata": {
    "scrolled": true
   },
   "outputs": [
    {
     "name": "stdout",
     "output_type": "stream",
     "text": [
      "Chi-squared Independence test results (sensitivity analysis):\n",
      "P-value = 0.04536426082070349\n",
      "Significance level = 0.05\n",
      "The p-value is less than the significance level.\n",
      "Consequently, the null hypothesis is rejected.\n"
     ]
    }
   ],
   "source": [
    "# chi square test of independence, sensitivity analysis\n",
    "chi, p_value_3_s, dof, expected = stats.chi2_contingency(cont_table * 2)\n",
    "print ('Chi-squared Independence test results (sensitivity analysis):')\n",
    "h_0_rej(p_value_3_s, alpha)"
   ]
  },
  {
   "cell_type": "markdown",
   "id": "3a10dbe6",
   "metadata": {},
   "source": [
    "As can be seen, given enough data (at least 2 x the data set, assuming proportions keep constant), the dependency relationship between these variables could be supported (just not with the available data)."
   ]
  }
 ],
 "metadata": {
  "colab": {
   "collapsed_sections": [
    "a6a3d218",
    "6970dd99",
    "9d75cfa2",
    "68f3b2c9",
    "fad2de2f",
    "27906576",
    "e5fdf0c8",
    "56b3dafd",
    "c7ee4907",
    "3f58c9a7",
    "5fed2eac",
    "f5c5258d",
    "359b12f8",
    "d9affc84",
    "353e9d24",
    "d49bfa2d",
    "8d585a90",
    "3acbc947"
   ],
   "name": "ENews_Express_Learner_Notebook_Full_Code v1.1.ipynb",
   "provenance": []
  },
  "kernelspec": {
   "display_name": "Python 3 (ipykernel)",
   "language": "python",
   "name": "python3"
  },
  "language_info": {
   "codemirror_mode": {
    "name": "ipython",
    "version": 3
   },
   "file_extension": ".py",
   "mimetype": "text/x-python",
   "name": "python",
   "nbconvert_exporter": "python",
   "pygments_lexer": "ipython3",
   "version": "3.9.12"
  }
 },
 "nbformat": 4,
 "nbformat_minor": 5
}
